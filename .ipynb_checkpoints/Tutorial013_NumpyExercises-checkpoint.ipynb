{
 "cells": [
  {
   "cell_type": "markdown",
   "metadata": {},
   "source": [
    "## EXERCISES\n",
    "\n",
    "### Vector Multiplication\n",
    "1. Produce 2 vectors, one with integers in the range [5,10] and the other [15,20] using the np.arange function\n",
    "1. Without using any functions from the numpy module\n",
    "    1. Compute the outer product of those vectors \n",
    "    1. Compute the \"trace\" of the resulting matrix\n",
    "    \n",
    "    ![trace](https://wikimedia.org/api/rest_v1/media/math/render/svg/3e5b6e82272fc5eeca6d510388e0a2bd0a6c6463)\n",
    "    \n",
    "    \n",
    "Complete the same items using numpy operations"
   ]
  },
  {
   "cell_type": "code",
   "execution_count": 1,
   "metadata": {},
   "outputs": [
    {
     "name": "stdout",
     "output_type": "stream",
     "text": [
      "[ 5  6  7  8  9 10]\n",
      "[15 16 17 18 19 20]\n"
     ]
    }
   ],
   "source": [
    "import numpy as np\n",
    "# setting up vectors\n",
    "a = np.arange(5,11,1)\n",
    "print(a)\n",
    "\n",
    "b = np.arange(15,21,1)\n",
    "print(b)"
   ]
  },
  {
   "cell_type": "code",
   "execution_count": 2,
   "metadata": {},
   "outputs": [
    {
     "name": "stdout",
     "output_type": "stream",
     "text": [
      "Outer Product:  [[75, 80, 85, 90, 95, 100], [90, 96, 102, 108, 114, 120], [105, 112, 119, 126, 133, 140], [120, 128, 136, 144, 152, 160], [135, 144, 153, 162, 171, 180], [150, 160, 170, 180, 190, 200]]\n"
     ]
    }
   ],
   "source": [
    "# outer product w/o numpy\n",
    "outer = [[a[i]*b[j] for j in range(len(b))] for i in range(len(a))]\n",
    "print('Outer Product: ', outer)\n",
    "# 6x6 matrix"
   ]
  },
  {
   "cell_type": "code",
   "execution_count": 5,
   "metadata": {},
   "outputs": [
    {
     "name": "stdout",
     "output_type": "stream",
     "text": [
      "[[ 75  80  85  90  95 100]\n",
      " [ 90  96 102 108 114 120]\n",
      " [105 112 119 126 133 140]\n",
      " [120 128 136 144 152 160]\n",
      " [135 144 153 162 171 180]\n",
      " [150 160 170 180 190 200]]\n"
     ]
    },
    {
     "data": {
      "text/plain": [
       "6"
      ]
     },
     "execution_count": 5,
     "metadata": {},
     "output_type": "execute_result"
    }
   ],
   "source": [
    "# check with numpy function\n",
    "outer = np.outer(a,b)\n",
    "print(outer)"
   ]
  },
  {
   "cell_type": "code",
   "execution_count": 9,
   "metadata": {},
   "outputs": [
    {
     "name": "stdout",
     "output_type": "stream",
     "text": [
      "6\n",
      "Trace =  805\n"
     ]
    }
   ],
   "source": [
    "# calculate trace without numpy\n",
    "print(len(outer))\n",
    "trace = []\n",
    "for i in range(len(outer)):\n",
    "    trace.append(outer[i,i])\n",
    "print('Trace = ',sum(trace))"
   ]
  },
  {
   "cell_type": "code",
   "execution_count": 10,
   "metadata": {},
   "outputs": [
    {
     "name": "stdout",
     "output_type": "stream",
     "text": [
      "Trace =  805\n"
     ]
    }
   ],
   "source": [
    "# check with numpy\n",
    "trace = np.trace(outer)\n",
    "print('Trace = ', trace)"
   ]
  },
  {
   "cell_type": "markdown",
   "metadata": {},
   "source": [
    "### Matrix Multiplication\n",
    "* Two matricies can be multiplied if their inner dimensions match (eg. 2x3 * 3x5 -> 2x5). The best rule for working with and mutliplying matricies is to remember (rows x columns). This applies to both the dimensions of a matrix (a 2x3 matrix has 2 rows and 3 columns) as well as multiplication (you multiply the rows of the first matrix by the columns of the second). \n",
    "\n",
    "* When multiplying two matricies of dimension (M x N)*(N x P) the resulting matrix is (M x P). The upper element of the reslting matrix is the inner (or dot) product of the first row of the first matrix and the first column of the second matrix\n",
    "\n",
    "![two matrices](https://wikimedia.org/api/rest_v1/media/math/render/svg/16b1644351bc2041175b19cbc65da03ef78130c7)\n",
    "\n",
    "![store product in matrix C](https://wikimedia.org/api/rest_v1/media/math/render/svg/00ac0c831c365b7424cc43239aae8cebea27c56c)\n",
    "\n",
    "![matrix multiply](https://wikimedia.org/api/rest_v1/media/math/render/svg/3cfeccef1c8c7e6da0ddf08daed8dbf3c6f50c5e)\n",
    "\n",
    "for i = 1, ..., n and j = 1, ..., p.\n",
    "\n",
    "1. Make two matrices of random numbers (A and B). A should be a 4x3 matrix and B should be a 3x4 matrix. Multiply A by B using (to a resulting matrix C) using:\n",
    "    1. a conventional for-loop\n",
    "    1. list comprehension\n",
    "    1. numpy operator\n",
    "    \n",
    "2. After you have C, pull out the upper quadrant using fancy indexing, and then replace the main diagonal (upper left to lower right) with 0s. "
   ]
  },
  {
   "cell_type": "code",
   "execution_count": 11,
   "metadata": {},
   "outputs": [
    {
     "name": "stdout",
     "output_type": "stream",
     "text": [
      "[[-0.06957501 -0.20286335 -2.08474378]\n",
      " [-0.33832993 -1.08348985  0.17838482]\n",
      " [-0.13866876 -0.73624955 -0.47084729]\n",
      " [-0.4767243   0.84749633  0.42340506]]\n",
      "[[ 0.25343975  1.71411022 -0.02914146  0.02522155]\n",
      " [ 0.45296825 -0.0914227  -1.33079914 -2.05596246]\n",
      " [-0.25835091  0.10715911 -0.02056765  1.1942295 ]]\n"
     ]
    }
   ],
   "source": [
    "# setup matrices of random numbers\n",
    "A = np.random.randn(4,3)\n",
    "print(A)\n",
    "B = np.random.randn(3,4)\n",
    "print(B)"
   ]
  },
  {
   "cell_type": "code",
   "execution_count": 12,
   "metadata": {},
   "outputs": [
    {
     "name": "stdout",
     "output_type": "stream",
     "text": [
      "[-0.01763307 -0.09189065  0.53859546]\n"
     ]
    },
    {
     "data": {
      "text/plain": [
       "0.42907173017571554"
      ]
     },
     "execution_count": 12,
     "metadata": {},
     "output_type": "execute_result"
    }
   ],
   "source": [
    "q = A[0,:]*B[:,0]\n",
    "print(q)\n",
    "sum(q)\n",
    "# so you can use this kind of thing to multiply a row of A and a column of B, then sum terms"
   ]
  },
  {
   "cell_type": "code",
   "execution_count": 13,
   "metadata": {},
   "outputs": [
    {
     "name": "stdout",
     "output_type": "stream",
     "text": [
      "[[ 0.42907173 -0.32411221  0.31487616 -2.0743379 ]\n",
      " [-0.62261863 -0.46176365  1.44809784  2.43211368]\n",
      " [-0.24699802 -0.2208392   0.9935255   0.94790427]\n",
      " [ 0.15368096 -0.8492667  -1.1226634  -1.24880155]]\n"
     ]
    }
   ],
   "source": [
    "# here's the for loop version\n",
    "C1 = np.zeros( (4,4) )\n",
    "# we know C1 will be 4x4\n",
    "for i in range(len(A[:,0])):\n",
    "    for j in range(len(B[0,:])):\n",
    "        x = A[i,:]*B[:,j]\n",
    "        C1[i,j] = sum(x)\n",
    "print(C1)"
   ]
  },
  {
   "cell_type": "code",
   "execution_count": 14,
   "metadata": {},
   "outputs": [
    {
     "name": "stdout",
     "output_type": "stream",
     "text": [
      "[[0.42907173017571554, -0.3241122097815208, 0.3148761564862357, -2.074337898345175], [-0.6226186326633149, -0.4617636497587696, 1.4480978384056666, 2.4321136802731416], [-0.24699801883994216, -0.2208392000872114, 0.9935255028646088, 0.9479042722283771], [0.15368095647247174, -0.8492666970471938, -1.1226633983923031, -1.248801554816374]]\n"
     ]
    }
   ],
   "source": [
    "# now for a list comprehension version...\n",
    "C2 = np.zeros( (4,4) )\n",
    "C2 = [[sum(A[i,:]*B[:,j]) for j in range(len(B[0,:]))] for i in range(len(A[:,0]))]\n",
    "# if you loop over i first, the output is the transpose of what you want\n",
    "print(C2)"
   ]
  },
  {
   "cell_type": "code",
   "execution_count": 15,
   "metadata": {},
   "outputs": [
    {
     "name": "stdout",
     "output_type": "stream",
     "text": [
      "[[ 0.42907173 -0.32411221  0.31487616 -2.0743379 ]\n",
      " [-0.62261863 -0.46176365  1.44809784  2.43211368]\n",
      " [-0.24699802 -0.2208392   0.9935255   0.94790427]\n",
      " [ 0.15368096 -0.8492667  -1.1226634  -1.24880155]]\n"
     ]
    }
   ],
   "source": [
    "# and the numpy version to check everything with\n",
    "C = np.matmul(A,B)\n",
    "print(C)"
   ]
  },
  {
   "cell_type": "code",
   "execution_count": 94,
   "metadata": {},
   "outputs": [
    {
     "name": "stdout",
     "output_type": "stream",
     "text": [
      "[[ 0.72557117 -0.09436308]\n",
      " [ 1.83826304 -0.50673878]]\n"
     ]
    }
   ],
   "source": [
    "tale = C[[0,1]][:,[0,1]]\n",
    "print(tale)\n",
    "# okay, grabbed the upper quad"
   ]
  },
  {
   "cell_type": "code",
   "execution_count": 97,
   "metadata": {},
   "outputs": [
    {
     "name": "stdout",
     "output_type": "stream",
     "text": [
      "[[ 0.         -0.09436308  1.79835015 -0.83456042]\n",
      " [ 1.83826304  0.          1.15642942 -1.55013815]\n",
      " [-2.06260334  0.44118598  0.          1.68875637]\n",
      " [-3.1395533   1.00508732  1.09211366  0.        ]]\n"
     ]
    }
   ],
   "source": [
    "# replace all of the diagonal entries with 0\n",
    "for i in range(len(C)):\n",
    "    C[i,i] = 0\n",
    "print(C)"
   ]
  }
 ],
 "metadata": {
  "kernelspec": {
   "display_name": "Python 3",
   "language": "python",
   "name": "python3"
  },
  "language_info": {
   "codemirror_mode": {
    "name": "ipython",
    "version": 3
   },
   "file_extension": ".py",
   "mimetype": "text/x-python",
   "name": "python",
   "nbconvert_exporter": "python",
   "pygments_lexer": "ipython3",
   "version": "3.6.5"
  }
 },
 "nbformat": 4,
 "nbformat_minor": 2
}
