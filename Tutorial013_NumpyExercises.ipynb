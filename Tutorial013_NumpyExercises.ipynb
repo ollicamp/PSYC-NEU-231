{
 "cells": [
  {
   "cell_type": "markdown",
   "metadata": {},
   "source": [
    "## EXERCISES\n",
    "\n",
    "### Vector Multiplication\n",
    "1. Produce 2 vectors, one with integers in the range [5,10] and the other [15,20] using the np.arange function\n",
    "1. Without using any functions from the numpy module\n",
    "    1. Compute the outer product of those vectors \n",
    "    1. Compute the \"trace\" of the resulting matrix\n",
    "    \n",
    "    ![trace](https://wikimedia.org/api/rest_v1/media/math/render/svg/3e5b6e82272fc5eeca6d510388e0a2bd0a6c6463)\n",
    "    \n",
    "    \n",
    "Complete the same items using numpy operations"
   ]
  },
  {
   "cell_type": "code",
   "execution_count": 6,
   "metadata": {},
   "outputs": [
    {
     "name": "stdout",
     "output_type": "stream",
     "text": [
      "[ 5  6  7  8  9 10]\n",
      "[15 16 17 18 19 20]\n"
     ]
    }
   ],
   "source": [
    "import numpy as np\n",
    "a = np.arange(5,11,1)\n",
    "print(a)\n",
    "\n",
    "b = np.arange(15,21,1)\n",
    "print(b)"
   ]
  },
  {
   "cell_type": "code",
   "execution_count": 29,
   "metadata": {},
   "outputs": [
    {
     "name": "stdout",
     "output_type": "stream",
     "text": [
      "Outer Product:  [[75, 80, 85, 90, 95, 100], [90, 96, 102, 108, 114, 120], [105, 112, 119, 126, 133, 140], [120, 128, 136, 144, 152, 160], [135, 144, 153, 162, 171, 180], [150, 160, 170, 180, 190, 200]]\n"
     ]
    }
   ],
   "source": [
    "outer = [[a[i]*b[j] for j in range(len(b))] for i in range(len(a))]\n",
    "print('Outer Product: ', outer)\n",
    "# 6x6 matrix\n",
    "\n",
    "outer = np.outer(a,b)"
   ]
  },
  {
   "cell_type": "code",
   "execution_count": 41,
   "metadata": {},
   "outputs": [
    {
     "name": "stdout",
     "output_type": "stream",
     "text": [
      "Trace =  805\n"
     ]
    }
   ],
   "source": [
    "trace = []\n",
    "for i in range(len(outer)):\n",
    "    trace.append(outer[i,i])\n",
    "print('Trace = ',sum(trace))"
   ]
  },
  {
   "cell_type": "code",
   "execution_count": 36,
   "metadata": {},
   "outputs": [
    {
     "name": "stdout",
     "output_type": "stream",
     "text": [
      "805\n"
     ]
    }
   ],
   "source": [
    "trace = np.trace(outer)\n",
    "print(trace)"
   ]
  },
  {
   "cell_type": "markdown",
   "metadata": {},
   "source": [
    "### Matrix Multiplication\n",
    "* Two matricies can be multiplied if their inner dimensions match (eg. 2x3 * 3x5 -> 2x5). The best rule for working with and mutliplying matricies is to remember (rows x columns). This applies to both the dimensions of a matrix (a 2x3 matrix has 2 rows and 3 columns) as well as multiplication (you multiply the rows of the first matrix by the columns of the second). \n",
    "\n",
    "* When multiplying two matricies of dimension (M x N)*(N x P) the resulting matrix is (M x P). The upper element of the reslting matrix is the inner (or dot) product of the first row of the first matrix and the first column of the second matrix\n",
    "\n",
    "![two matrices](https://wikimedia.org/api/rest_v1/media/math/render/svg/16b1644351bc2041175b19cbc65da03ef78130c7)\n",
    "\n",
    "![store product in matrix C](https://wikimedia.org/api/rest_v1/media/math/render/svg/00ac0c831c365b7424cc43239aae8cebea27c56c)\n",
    "\n",
    "![matrix multiply](https://wikimedia.org/api/rest_v1/media/math/render/svg/3cfeccef1c8c7e6da0ddf08daed8dbf3c6f50c5e)\n",
    "\n",
    "for i = 1, ..., n and j = 1, ..., p.\n",
    "\n",
    "1. Make two matrices of random numbers (A and B). A should be a 4x3 matrix and B should be a 3x4 matrix. Multiply A by B using (to a resulting matrix C) using:\n",
    "    1. a conventional for-loop\n",
    "    1. list comprehension\n",
    "    1. numpy operator\n",
    "    \n",
    "2. After you have C, pull out the upper quadrant using fancy indexing, and then replace the main diagonal (upper left to lower right) with 0s. "
   ]
  },
  {
   "cell_type": "code",
   "execution_count": 54,
   "metadata": {},
   "outputs": [
    {
     "name": "stdout",
     "output_type": "stream",
     "text": [
      "[[-1.09884539  0.83740701  0.4258072 ]\n",
      " [-1.69924737  0.89736099 -0.21209531]\n",
      " [ 1.55616345  0.42877271 -0.44224183]\n",
      " [ 1.5670672   0.89726198  0.97723534]]\n",
      "[[-1.3218366   0.33793804 -0.61404393  1.04925242]\n",
      " [-0.58574407  0.1563096   0.51175522  0.29776127]\n",
      " [-0.55522003  0.34307503  1.632343    0.16218228]]\n"
     ]
    }
   ],
   "source": [
    "A = np.random.randn(4,3)\n",
    "print(A)\n",
    "B = np.random.randn(3,4)\n",
    "print(B)"
   ]
  },
  {
   "cell_type": "code",
   "execution_count": 76,
   "metadata": {},
   "outputs": [
    {
     "name": "stdout",
     "output_type": "stream",
     "text": [
      "[ 1.45249405 -0.49050619 -0.23641668]\n"
     ]
    },
    {
     "data": {
      "text/plain": [
       "0.7255711704779405"
      ]
     },
     "execution_count": 76,
     "metadata": {},
     "output_type": "execute_result"
    }
   ],
   "source": [
    "q = A[0,:]*B[:,0]\n",
    "print(q)\n",
    "sum(q)\n",
    "# so you can use this kind of thing to multiply a row of A and a column of B, then sum terms"
   ]
  },
  {
   "cell_type": "code",
   "execution_count": 89,
   "metadata": {},
   "outputs": [
    {
     "name": "stdout",
     "output_type": "stream",
     "text": [
      "[[ 0.72557117 -0.09436308  1.79835015 -0.83456042]\n",
      " [ 1.83826304 -0.50673878  1.15642942 -1.55013815]\n",
      " [-2.06260334  0.44118598 -1.45801642  1.68875637]\n",
      " [-3.1395533   1.00508732  1.09211366  2.06990916]]\n"
     ]
    }
   ],
   "source": [
    "# here's the for loop version\n",
    "C1 = np.zeros( (4,4) )\n",
    "# we know C1 will be 4x4\n",
    "for i in range(len(A[:,0])):\n",
    "    for j in range(len(B[0,:])):\n",
    "        x = A[i,:]*B[:,j]\n",
    "        C1[i,j] = sum(x)\n",
    "print(C1)"
   ]
  },
  {
   "cell_type": "code",
   "execution_count": 88,
   "metadata": {},
   "outputs": [
    {
     "name": "stdout",
     "output_type": "stream",
     "text": [
      "[[0.7255711704779405, -0.09436307987446746, 1.7983501528967858, -0.8345604200570091], [1.8382630383123153, -0.5067387841398068, 1.1564294212733648, -1.5501381544666528], [-2.0626033416982956, 0.4411859843761628, -1.458016418970005, 1.688756372815107], [-3.1395532956460475, 1.0050873224070787, 1.0921136609752131, 2.069909164064269]]\n"
     ]
    }
   ],
   "source": [
    "# now for a list comprehension version...\n",
    "C2 = np.zeros( (4,4) )\n",
    "C2 = [[sum(A[i,:]*B[:,j]) for j in range(len(B[0,:]))] for i in range(len(A[:,0]))]\n",
    "# if you loop over i first, the output is the transpose of what you want\n",
    "print(C2)"
   ]
  },
  {
   "cell_type": "code",
   "execution_count": 87,
   "metadata": {},
   "outputs": [
    {
     "name": "stdout",
     "output_type": "stream",
     "text": [
      "[[ 0.72557117 -0.09436308  1.79835015 -0.83456042]\n",
      " [ 1.83826304 -0.50673878  1.15642942 -1.55013815]\n",
      " [-2.06260334  0.44118598 -1.45801642  1.68875637]\n",
      " [-3.1395533   1.00508732  1.09211366  2.06990916]]\n"
     ]
    }
   ],
   "source": [
    "# and the numpy version to check everything with\n",
    "C = np.matmul(A,B)\n",
    "print(C)"
   ]
  },
  {
   "cell_type": "code",
   "execution_count": 94,
   "metadata": {},
   "outputs": [
    {
     "name": "stdout",
     "output_type": "stream",
     "text": [
      "[[ 0.72557117 -0.09436308]\n",
      " [ 1.83826304 -0.50673878]]\n"
     ]
    }
   ],
   "source": [
    "tale = C[[0,1]][:,[0,1]]\n",
    "print(tale)\n",
    "# okay, grabbed the upper quad"
   ]
  },
  {
   "cell_type": "code",
   "execution_count": 97,
   "metadata": {},
   "outputs": [
    {
     "name": "stdout",
     "output_type": "stream",
     "text": [
      "[[ 0.         -0.09436308  1.79835015 -0.83456042]\n",
      " [ 1.83826304  0.          1.15642942 -1.55013815]\n",
      " [-2.06260334  0.44118598  0.          1.68875637]\n",
      " [-3.1395533   1.00508732  1.09211366  0.        ]]\n"
     ]
    }
   ],
   "source": [
    "# replace all of the diagonal entries with 0\n",
    "for i in range(len(C)):\n",
    "    C[i,i] = 0\n",
    "print(C)"
   ]
  }
 ],
 "metadata": {
  "kernelspec": {
   "display_name": "Python 3",
   "language": "python",
   "name": "python3"
  },
  "language_info": {
   "codemirror_mode": {
    "name": "ipython",
    "version": 3
   },
   "file_extension": ".py",
   "mimetype": "text/x-python",
   "name": "python",
   "nbconvert_exporter": "python",
   "pygments_lexer": "ipython3",
   "version": "3.6.5"
  }
 },
 "nbformat": 4,
 "nbformat_minor": 2
}
