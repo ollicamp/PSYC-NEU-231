{
 "cells": [
  {
   "cell_type": "markdown",
   "metadata": {},
   "source": [
    "# Tutorial 03 in class exercises (randomization and bootstrapping)\n",
    "## Goals\n",
    "* Practice working through coding basics on your own\n",
    "* Get a better intuition about when standard parametric t-tests and non-parametric approaches produce similar results and when they can diverge\n",
    "* See the importance of plotting your data before you do anything else!\n",
    "* Apply bootstrapping to some real EEG data to estimate confidence intervals"
   ]
  },
  {
   "cell_type": "markdown",
   "metadata": {},
   "source": [
    "## First start by importing the packages you'll need. \n",
    "* Numpy, scipy, and matplotlib\n",
    "* maybe set up a standard font as well if you want to get fancy"
   ]
  },
  {
   "cell_type": "code",
   "execution_count": 29,
   "metadata": {},
   "outputs": [],
   "source": [
    "import numpy as np\n",
    "import matplotlib.pyplot as plt\n",
    "from scipy import stats\n",
    "\n",
    "np.set_printoptions(precision=5)"
   ]
  },
  {
   "cell_type": "markdown",
   "metadata": {},
   "source": [
    "## Part I: Start with some data.\n",
    "* First plot it\n",
    "* Then compute summary stats (mean, std) for each data array\n",
    "* Then compute the correlation coeffecient that relates the two arrays\n",
    "* Then the t-value and p-value associated with the correlation. \n",
    "* Try to do this without copying from the in-class tutorial! Google the formulas if you don't remember them and then try to translate them into python (you can peek at in class tutorial if you get stuck, but its good practice to just hack it out)\n",
    "\n",
    "[source of this famous data set: Anscombe](https://en.wikipedia.org/wiki/Anscombe%27s_quartet)"
   ]
  },
  {
   "cell_type": "code",
   "execution_count": 30,
   "metadata": {},
   "outputs": [],
   "source": [
    "d1 = np.array([10, 8, 13, 9, 11, 14, 6, 4, 12, 7, 5])\n",
    "d2 = np.array([8.04, 6.95, 7.58, 8.81, 8.33, 9.96, 7.24, 4.26, 10.84, 4.82, 5.68])"
   ]
  },
  {
   "cell_type": "markdown",
   "metadata": {},
   "source": [
    "## Plot data...scatter works well here\n",
    "* First rule of data analysis...always plot your data first!"
   ]
  },
  {
   "cell_type": "code",
   "execution_count": 31,
   "metadata": {},
   "outputs": [
    {
     "data": {
      "text/plain": [
       "Text(0,0.5,'d2')"
      ]
     },
     "execution_count": 31,
     "metadata": {},
     "output_type": "execute_result"
    },
    {
     "data": {
      "image/png": "[encoded data removed]",
      "text/plain": [
       "<Figure size 432x288 with 1 Axes>"
      ]
     },
     "metadata": {},
     "output_type": "display_data"
    }
   ],
   "source": [
    "plt.scatter(d1,d2)\n",
    "plt.title('Anscombe dataset')\n",
    "plt.xlabel('d1')\n",
    "plt.ylabel('d2')"
   ]
  },
  {
   "cell_type": "markdown",
   "metadata": {},
   "source": [
    "## Compute mean, std of both data arrays\n",
    "* Leave the output in the notebook so that we can come back and compare later"
   ]
  },
  {
   "cell_type": "code",
   "execution_count": 37,
   "metadata": {},
   "outputs": [
    {
     "name": "stdout",
     "output_type": "stream",
     "text": [
      "Mean d1: 9.0\n",
      "SD d1: 3.1622776601683795\n",
      "Mean d2: 7.500909090909093\n",
      "SD d2: 1.937024215108669\n"
     ]
    }
   ],
   "source": [
    "print('Mean d1:',np.mean(d1))\n",
    "print('SD d1:',np.std(d1))\n",
    "print('Mean d2:', np.mean(d2))\n",
    "print('SD d2:', np.std(d2))"
   ]
  },
  {
   "cell_type": "markdown",
   "metadata": {},
   "source": [
    "## Correlate the two data arrays, compute t-value and p-value associated with correlation coef"
   ]
  },
  {
   "cell_type": "code",
   "execution_count": 21,
   "metadata": {},
   "outputs": [
    {
     "name": "stdout",
     "output_type": "stream",
     "text": [
      "Correlation Coefficient: 0.81642\n",
      "t-value: 4.24146\n",
      "p-value: 0.00171\n"
     ]
    }
   ],
   "source": [
    "rvalue = np.corrcoef(d1,d2)[0,1]\n",
    "print('Correlation Coefficient:', np.round(rvalue,5))\n",
    "n = len(d1)\n",
    "tvalue = (rvalue*np.sqrt(n-2)) / np.sqrt(1-rvalue**2)\n",
    "print('t-value:', np.round(tvalue,5))\n",
    "pvalue = 2*(1-stats.t.cdf(tvalue, n-1))\n",
    "print('p-value:', np.round(pvalue,5))"
   ]
  },
  {
   "cell_type": "markdown",
   "metadata": {},
   "source": [
    "## Now use randomization testing to eval the reliability of the estimated p-value. \n",
    "\n",
    "<div class=\"alert alert-info\">\n",
    "Before you run this procedure, you should have a pretty good idea about how the standard p-value will compare with the p-value that you estimate using randomization. Make a prediction!\n",
    "</div>"
   ]
  },
  {
   "cell_type": "code",
   "execution_count": 23,
   "metadata": {},
   "outputs": [
    {
     "name": "stdout",
     "output_type": "stream",
     "text": [
      "Standard p-value: 0.00171\n",
      "Randomization p-value: 0.025\n"
     ]
    }
   ],
   "source": [
    "# the data looked pretty good in the scatterplot\n",
    "# a linear model looks reasonable for this model\n",
    "# so I'd predict that the randomization p-value is similar\n",
    "\n",
    "nt = 10000\n",
    "boot_r = np.zeros(nt)\n",
    "boot_t = np.zeros(nt)\n",
    "rand1 = np.zeros(n)\n",
    "rand2 = np.zeros(n)\n",
    "\n",
    "for i in np.arange(nt):\n",
    "    for j in np.arange(n):\n",
    "        if np.random.rand(1) < 0.5:\n",
    "            rand1[j] = d1[j]\n",
    "            rand2[j] = d2[j]\n",
    "        else:\n",
    "            rand1[j] = d2[j]\n",
    "            rand2[j] = d1[j]\n",
    "    boot_r[i]=np.corrcoef(rand1,rand2)[0,1]\n",
    "    boot_t[i] = (boot_r[i]*np.sqrt(n-2)) / np.sqrt(1-boot_r[i]**2)\n",
    "    \n",
    "boot_p = 2*(1-(np.sum(tvalue>boot_t) / nt))\n",
    "\n",
    "print(\"Standard p-value:\", np.round(pvalue,5))\n",
    "print(\"Randomization p-value:\", np.round(boot_p,5))"
   ]
  },
  {
   "cell_type": "markdown",
   "metadata": {},
   "source": [
    "## Part II: Here is a second data set (actually, its another part of the Anscombe data set...but lets pretend like its an entirely new data set)"
   ]
  },
  {
   "cell_type": "code",
   "execution_count": 38,
   "metadata": {},
   "outputs": [],
   "source": [
    "d1 = np.array([8, 8, 8, 8, 8, 8, 8, 19, 8, 8, 8])\n",
    "d2 = np.array([6.58, 5.76, 7.71, 8.84, 8.47, 7.04, 5.25, 12.5, 5.56, 7.91, 6.89])"
   ]
  },
  {
   "cell_type": "markdown",
   "metadata": {},
   "source": [
    "## Break the first rule of data analysis, and BEFORE you plot the data, compute the mean and std of these two arrays\n",
    "* What do you notice when you compare them to the mean and std of the arrays in the first part of the exercises?"
   ]
  },
  {
   "cell_type": "code",
   "execution_count": 39,
   "metadata": {},
   "outputs": [
    {
     "name": "stdout",
     "output_type": "stream",
     "text": [
      "Mean d1: 9.0\n",
      "SD d1: 3.1622776601683795\n",
      "Mean d2: 7.500909090909091\n",
      "SD d2: 1.9360806451340837\n"
     ]
    }
   ],
   "source": [
    "print('Mean d1:',np.mean(d1))\n",
    "print('SD d1:',np.std(d1))\n",
    "print('Mean d2:', np.mean(d2))\n",
    "print('SD d2:', np.std(d2))\n",
    "\n",
    "# same means and SDs"
   ]
  },
  {
   "cell_type": "markdown",
   "metadata": {},
   "source": [
    "## Based only on your comparison of the mean and std of the data from Part I and Part II, what is your prediction about the effects of randomization testing on this new data set? \n",
    "* Will the randomization based p-value be similar to the standard p-value as it was in the example above?"
   ]
  },
  {
   "cell_type": "markdown",
   "metadata": {},
   "source": [
    "## Ok - now plot the data"
   ]
  },
  {
   "cell_type": "code",
   "execution_count": 42,
   "metadata": {},
   "outputs": [
    {
     "data": {
      "text/plain": [
       "Text(0,0.5,'d2')"
      ]
     },
     "execution_count": 42,
     "metadata": {},
     "output_type": "execute_result"
    },
    {
     "data": {
      "image/png": "[encoded data removed]",
      "text/plain": [
       "<Figure size 432x288 with 1 Axes>"
      ]
     },
     "metadata": {},
     "output_type": "display_data"
    }
   ],
   "source": [
    "# the means and SDs are the same, which would lead me to think the datasets are similar\n",
    "# but we'll see...\n",
    "\n",
    "plt.scatter(d1,d2)\n",
    "plt.xlabel('d1')\n",
    "plt.ylabel('d2')"
   ]
  },
  {
   "cell_type": "markdown",
   "metadata": {},
   "source": [
    "## Based on this, what do you think is going to happen when we compare the output from a parametric test and a radomization test?\n",
    "* Remember that the mean and the std of the data sets in Part I and Part II are identical...\n",
    "* Compute correlation coef, and do randomization testing"
   ]
  },
  {
   "cell_type": "code",
   "execution_count": 45,
   "metadata": {},
   "outputs": [
    {
     "name": "stdout",
     "output_type": "stream",
     "text": [
      "r-value: 0.8165214368885028\n",
      "Correlation Coefficient: 0.81652\n",
      "Parametric t-value: 4.24303\n",
      "Parametric p-value: 0.00171\n"
     ]
    }
   ],
   "source": [
    "# this dataset is totally unreasonable for a linear model ie x doesn't explain y at all\n",
    "# basically all the x values are the same, except for one outlier\n",
    "# the data don't fit the assumptions of the parametric test\n",
    "# so the parametric and non-parametric tests likely will see the data differently\n",
    "\n",
    "print('r-value:', np.corrcoef(d1,d2)[0,1])\n",
    "# r value is similar to that of the first dataset, pretty high\n",
    "\n",
    "rvalue = np.corrcoef(d1,d2)[0,1]\n",
    "print('Correlation Coefficient:', np.round(rvalue,5))\n",
    "n = len(d1)\n",
    "tvalue = (rvalue*np.sqrt(n-2)) / np.sqrt(1-rvalue**2)\n",
    "print('Parametric t-value:', np.round(tvalue,5))\n",
    "pvalue = 2*(1-stats.t.cdf(tvalue, n-1))\n",
    "print('Parametric p-value:', np.round(pvalue,5))"
   ]
  },
  {
   "cell_type": "markdown",
   "metadata": {},
   "source": [
    "## Compare the correlation coeffecients to those from Part I.\n",
    "* So far, everything is pretty much the same between the data sets (same mean/std/corr coef)\n",
    "* So should randomization testing yield about the same results? Try it..."
   ]
  },
  {
   "cell_type": "code",
   "execution_count": 47,
   "metadata": {},
   "outputs": [
    {
     "name": "stdout",
     "output_type": "stream",
     "text": [
      "Non-parametric p-value: 0.3757999999999999\n"
     ]
    }
   ],
   "source": [
    "nt = 10000\n",
    "boot_r = np.zeros(nt)\n",
    "boot_t = np.zeros(nt)\n",
    "rand1 = np.zeros(n)\n",
    "rand2 = np.zeros(n)\n",
    "\n",
    "for i in np.arange(nt):\n",
    "    for j in np.arange(n):\n",
    "        if np.random.rand(1) < 0.5:\n",
    "            rand1[j] = d1[j]\n",
    "            rand2[j] = d2[j]\n",
    "        else:\n",
    "            rand1[j] = d2[j]\n",
    "            rand2[j] = d1[j]\n",
    "    boot_r[i] = np.corrcoef(rand1,rand2)[0,1]\n",
    "    boot_t[i] = (boot_r[i]*np.sqrt(n-2)) / np.sqrt(1-boot_r[i]**2)\n",
    "    \n",
    "boot_p = 2*(1-(np.sum(tvalue>boot_t) / nt))\n",
    "print('Non-parametric p-value:', boot_p)\n",
    "\n",
    "# so the non-parametric test captures the fact that the linear model is really bad"
   ]
  },
  {
   "cell_type": "markdown",
   "metadata": {},
   "source": [
    "## Part III: Load in the second EEG data set from last week (eeg_data01.npz). \n",
    "* Pull out the data, sr, and tx arrays"
   ]
  },
  {
   "cell_type": "code",
   "execution_count": 52,
   "metadata": {},
   "outputs": [],
   "source": [
    "# load the data...\n",
    "eeg = np.load('eeg_data01.npz')\n",
    "\n",
    "data = eeg['data']\n",
    "sr = eeg['sr']\n",
    "tx = eeg['tx']"
   ]
  },
  {
   "cell_type": "markdown",
   "metadata": {},
   "source": [
    "## Below is a vector that labels each trial as coming from experimental conditions 1,2,3,4"
   ]
  },
  {
   "cell_type": "code",
   "execution_count": 53,
   "metadata": {},
   "outputs": [],
   "source": [
    "N = data.shape[0]\n",
    "num_samp_cond = int(N/4)\n",
    "cond = np.hstack((np.ones(num_samp_cond), np.ones(num_samp_cond)*2, np.ones(num_samp_cond)*3, np.ones(num_samp_cond)*4))"
   ]
  },
  {
   "cell_type": "markdown",
   "metadata": {},
   "source": [
    "## Now avgerage the data from condition 2, avg the data from condition 3, and plot against the time axis (tx) - we're going to ignore conditions 1 and 4"
   ]
  },
  {
   "cell_type": "code",
   "execution_count": 68,
   "metadata": {},
   "outputs": [
    {
     "data": {
      "text/plain": [
       "[<matplotlib.lines.Line2D at 0x1da73c3cef0>]"
      ]
     },
     "execution_count": 68,
     "metadata": {},
     "output_type": "execute_result"
    },
    {
     "data": {
      "image/png": "[encoded data removed]",
      "text/plain": [
       "<Figure size 432x288 with 1 Axes>"
      ]
     },
     "metadata": {},
     "output_type": "display_data"
    }
   ],
   "source": [
    "cond2ave = np.mean(data[cond==2,:],axis=0)\n",
    "cond3ave = np.mean(data[cond==3,:],axis=0)\n",
    "\n",
    "plt.plot(tx, cond2, color='r')\n",
    "plt.plot(tx, cond3, color='b')"
   ]
  },
  {
   "cell_type": "markdown",
   "metadata": {},
   "source": [
    "## Next do a t-test for related samples comparing the responses in conditions 2 and 3 at each point in time. Note - you can do this all in one line of code!"
   ]
  },
  {
   "cell_type": "code",
   "execution_count": 59,
   "metadata": {},
   "outputs": [],
   "source": [
    "tvalues = stats.ttest_rel(data[cond==2,:],data[cond==3,:],axis=0)"
   ]
  },
  {
   "cell_type": "markdown",
   "metadata": {},
   "source": [
    "## now plot the averages in one plot, and then right below that make another plot with the t-values. Keep in mind that with this many degrees of freedom, a t-value of approx 1.9 is significant at the magic 0.05 level (or 1.68 one-tailed). So put some horizontal lines on the plot at 1.9 and -1.9. You'll see some pretty impressive t-values in the data!"
   ]
  },
  {
   "cell_type": "code",
   "execution_count": 67,
   "metadata": {},
   "outputs": [
    {
     "data": {
      "text/plain": [
       "<matplotlib.lines.Line2D at 0x1da73f4cf28>"
      ]
     },
     "execution_count": 67,
     "metadata": {},
     "output_type": "execute_result"
    },
    {
     "data": {
      "image/png": "[encoded data removed]",
      "text/plain": [
       "<Figure size 432x288 with 1 Axes>"
      ]
     },
     "metadata": {},
     "output_type": "display_data"
    }
   ],
   "source": [
    "plt.plot(tx, cond2, color='r', linewidth=0.75)\n",
    "plt.plot(tx, cond3, color='b', linewidth=0.75)\n",
    "plt.plot(tx, tvalues.statistic, color='k', linewidth=2)\n",
    "plt.axhline(1.9, color='k', linestyle='--')\n",
    "plt.axhline(-1.9, color='k', linestyle='--')"
   ]
  },
  {
   "cell_type": "markdown",
   "metadata": {},
   "source": [
    "## You should see that there is a significant difference at many timepoints...Now figure out how robust those effects are by applying bootstrapping \n",
    "* To do this, you might first create two 800 x 4102 matrices, one with data from all trials of condition 2, and one with data from all trials of condition 3\n",
    "* Then resample 800 trials, with replacement, from each data matrix and then do the t-test. \n",
    "* try generating a set of 800 values with repeating numbers that you can use for a row index into the data matrices\n",
    "* repeat and then compute CIs of the t-value\n",
    "* how often do the CIs for the t-value overlap with 0???\n",
    "* note - this can take a while, so start with 50 bootstraps and then increase as compute time allows"
   ]
  },
  {
   "cell_type": "code",
   "execution_count": 69,
   "metadata": {},
   "outputs": [
    {
     "data": {
      "text/plain": [
       "(400, 4102)"
      ]
     },
     "execution_count": 69,
     "metadata": {},
     "output_type": "execute_result"
    }
   ],
   "source": [
    "cond2 = data[cond==2,:]\n",
    "cond3 = data[cond==3,:]\n",
    "cond2.shape\n",
    "# uh it's showing as two 400 x 4102 matrices but the tutorial does the same thing\n",
    "\n",
    "nt = 50\n",
    "boot_r = np.zeros(nt)\n",
    "boot_t = np.zeros(nt)\n",
    "# since I've got 400x4102 datasets, I guess I should resample 400 trials with replacement, 50 times?\n",
    "boot_c2 = np.zeros(nt, 400)\n",
    "\n"
   ]
  },
  {
   "cell_type": "markdown",
   "metadata": {},
   "source": [
    "## How do things compare?"
   ]
  }
 ],
 "metadata": {
  "kernelspec": {
   "display_name": "Python 3",
   "language": "python",
   "name": "python3"
  },
  "language_info": {
   "codemirror_mode": {
    "name": "ipython",
    "version": 3
   },
   "file_extension": ".py",
   "mimetype": "text/x-python",
   "name": "python",
   "nbconvert_exporter": "python",
   "pygments_lexer": "ipython3",
   "version": "3.6.5"
  }
 },
 "nbformat": 4,
 "nbformat_minor": 2
}
